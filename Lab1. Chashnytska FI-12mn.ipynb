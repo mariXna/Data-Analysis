{
 "cells": [
  {
   "cell_type": "code",
   "execution_count": null,
   "metadata": {},
   "outputs": [],
   "source": [
    "import matplotlib.pyplot as plt\n",
    "%matplotlib inline\n",
    "\n",
    "import numpy as np"
   ]
  },
  {
   "cell_type": "code",
   "execution_count": null,
   "metadata": {},
   "outputs": [],
   "source": [
    "np.random.seed(42)"
   ]
  },
  {
   "cell_type": "markdown",
   "metadata": {},
   "source": [
    "Part 1D. Linear regression"
   ]
  },
  {
   "cell_type": "code",
   "execution_count": null,
   "metadata": {},
   "outputs": [],
   "source": [
    "num_points = 100\n",
    "a = 2\n",
    "b = 6\n",
    "noise = np.random.normal(0, 1, num_points)\n",
    "x = np.random.uniform(0, 5, num_points)\n",
    "y = a * x + b + noise"
   ]
  },
  {
   "cell_type": "code",
   "execution_count": null,
   "metadata": {
    "scrolled": true
   },
   "outputs": [],
   "source": [
    "plt.scatter(x, y, marker = '.', color = 'g')\n",
    "plt.plot()\n",
    "plt.plot(x, a* x + b)"
   ]
  },
  {
   "cell_type": "code",
   "execution_count": null,
   "metadata": {},
   "outputs": [],
   "source": [
    "a = 0\n",
    "b = 0\n",
    "\n",
    "alpha = 0.1\n",
    "epochs = 1000\n",
    "\n",
    "for i in range(epochs): \n",
    "\n",
    "    a = a - alpha * (-2/num_points) * sum(x * (y - a* x - b))\n",
    "    b = b - alpha * (-2/num_points) * sum(y - a* x - b)\n",
    "    \n",
    "print (a, b)\n"
   ]
  },
  {
   "cell_type": "markdown",
   "metadata": {},
   "source": [
    "Part 2D. Logistic Regression"
   ]
  },
  {
   "cell_type": "code",
   "execution_count": 661,
   "metadata": {},
   "outputs": [],
   "source": [
    "num_points = 100\n",
    "\n",
    "x1 = np.random.multivariate_normal([0, 0], [[1, .6],[.6, 1]], num_points)\n",
    "x2 = np.random.multivariate_normal([1, 4], [[1, .6],[.6, 1]], num_points)\n",
    "\n",
    "X_0 = np.concatenate([x1, x2])\n",
    "Y = np.hstack((np.zeros(num_points), np.ones(num_points)))"
   ]
  },
  {
   "cell_type": "code",
   "execution_count": 662,
   "metadata": {},
   "outputs": [
    {
     "data": {
      "text/plain": [
       "<matplotlib.collections.PathCollection at 0x1f1b42af908>"
      ]
     },
     "execution_count": 662,
     "metadata": {},
     "output_type": "execute_result"
    },
    {
     "data": {
      "image/png": "[encoded data removed]",
      "text/plain": [
       "<Figure size 432x288 with 1 Axes>"
      ]
     },
     "metadata": {
      "needs_background": "light"
     },
     "output_type": "display_data"
    }
   ],
   "source": [
    "plt.scatter(X_0[:, 0], X_0[:, 1], c = Y)"
   ]
  },
  {
   "cell_type": "code",
   "execution_count": 663,
   "metadata": {},
   "outputs": [],
   "source": [
    "def sigmoid(z):\n",
    "    return 1 / (1 + np.exp(-z))"
   ]
  },
  {
   "cell_type": "code",
   "execution_count": 664,
   "metadata": {},
   "outputs": [],
   "source": [
    "X = np.insert(X_0,0,1, axis = 1)"
   ]
  },
  {
   "cell_type": "code",
   "execution_count": 665,
   "metadata": {},
   "outputs": [],
   "source": [
    "bound = np.random.rand(len(X)) <= 0.5\n",
    "X_train, X_test, Y_train, Y_test = X[bound], X[~bound], Y[bound], Y[~bound]"
   ]
  },
  {
   "cell_type": "code",
   "execution_count": 666,
   "metadata": {},
   "outputs": [],
   "source": [
    "m = X_train.shape[0]\n",
    "theta_init = np.array([0.5, 0.7, 0.3])\n",
    "theta = theta_init"
   ]
  },
  {
   "cell_type": "code",
   "execution_count": 667,
   "metadata": {},
   "outputs": [
    {
     "name": "stdout",
     "output_type": "stream",
     "text": [
      "theta = [-3.74650233 -0.22929752  2.41108934]\n"
     ]
    }
   ],
   "source": [
    "epochs = 1000\n",
    "alpha = 0.1\n",
    "for i in range(epochs):\n",
    "    for j in range(len(theta)):\n",
    "        pred = sigmoid(X_train @ theta)\n",
    "        #print(X_train @ theta)\n",
    "        theta[j] = theta[j] - alpha * 1/m * sum((pred - Y_train) * X_train[:, j])\n",
    "\n",
    "print(f\"theta = {theta}\")\n"
   ]
  },
  {
   "cell_type": "code",
   "execution_count": 668,
   "metadata": {},
   "outputs": [
    {
     "name": "stdout",
     "output_type": "stream",
     "text": [
      "accuracy is 0.979381443298969\n"
     ]
    }
   ],
   "source": [
    "preds = sigmoid(X_test @ theta)\n",
    "for item in range(len(preds)):\n",
    "    if preds[item] >= 0.5:\n",
    "        preds[item] = 1\n",
    "    else:\n",
    "        preds[item] = 0\n",
    "accuracy = np.sum(preds == Y_test) / len(Y_test)\n",
    "print(f\"accuracy is {accuracy}\")"
   ]
  }
 ],
 "metadata": {
  "kernelspec": {
   "display_name": "Python 3",
   "language": "python",
   "name": "python3"
  },
  "language_info": {
   "codemirror_mode": {
    "name": "ipython",
    "version": 3
   },
   "file_extension": ".py",
   "mimetype": "text/x-python",
   "name": "python",
   "nbconvert_exporter": "python",
   "pygments_lexer": "ipython3",
   "version": "3.7.3"
  }
 },
 "nbformat": 4,
 "nbformat_minor": 2
}
